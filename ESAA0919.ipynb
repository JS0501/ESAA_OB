{
  "nbformat": 4,
  "nbformat_minor": 0,
  "metadata": {
    "colab": {
      "provenance": [],
      "authorship_tag": "ABX9TyPa8WHWbnt2JzyzUZ1iufyK",
      "include_colab_link": true
    },
    "kernelspec": {
      "name": "python3",
      "display_name": "Python 3"
    },
    "language_info": {
      "name": "python"
    }
  },
  "cells": [
    {
      "cell_type": "markdown",
      "metadata": {
        "id": "view-in-github",
        "colab_type": "text"
      },
      "source": [
        "<a href=\"https://colab.research.google.com/github/JS0501/ESAA_OB/blob/main/ESAA0919.ipynb\" target=\"_parent\"><img src=\"https://colab.research.google.com/assets/colab-badge.svg\" alt=\"Open In Colab\"/></a>"
      ]
    },
    {
      "cell_type": "markdown",
      "source": [
        "### **9.2 가우시안 혼합**\n",
        "\n",
        "**가우시안 혼합 모델** (GMM)은 샘플이 파라미터가 알려지지 않은 여러 개의 혼합된 가우시안 분포에서 생성되었다고 가정한다.\n",
        "\n",
        "하나의 가우시안 분포에서 생성된 모든 샘플은 하나의 클러스터를 형성하고, 일반적으로 이 클러스터는 타원형이다.\n",
        "\n",
        "각 클러스터는 타원의 모양, 크기, 밀집도, 방향이 다르다.\n",
        "\n"
      ],
      "metadata": {
        "id": "MX8gEz5CXJnT"
      }
    },
    {
      "cell_type": "code",
      "source": [
        "import numpy as np\n",
        "\n",
        "from sklearn.datasets import make_moons\n",
        "\n",
        "X, y = make_moons(n_samples=1000,noise=0.05)"
      ],
      "metadata": {
        "id": "Q692D0uFt-QG"
      },
      "execution_count": 1,
      "outputs": []
    },
    {
      "cell_type": "code",
      "execution_count": 2,
      "metadata": {
        "id": "JrfFcIGjVVBL",
        "colab": {
          "base_uri": "https://localhost:8080/",
          "height": 80
        },
        "outputId": "04891e1d-3aaf-4f38-8e13-6cef0af1ff35"
      },
      "outputs": [
        {
          "output_type": "execute_result",
          "data": {
            "text/plain": [
              "GaussianMixture(n_components=3, n_init=10)"
            ],
            "text/html": [
              "<style>#sk-container-id-1 {\n",
              "  /* Definition of color scheme common for light and dark mode */\n",
              "  --sklearn-color-text: #000;\n",
              "  --sklearn-color-text-muted: #666;\n",
              "  --sklearn-color-line: gray;\n",
              "  /* Definition of color scheme for unfitted estimators */\n",
              "  --sklearn-color-unfitted-level-0: #fff5e6;\n",
              "  --sklearn-color-unfitted-level-1: #f6e4d2;\n",
              "  --sklearn-color-unfitted-level-2: #ffe0b3;\n",
              "  --sklearn-color-unfitted-level-3: chocolate;\n",
              "  /* Definition of color scheme for fitted estimators */\n",
              "  --sklearn-color-fitted-level-0: #f0f8ff;\n",
              "  --sklearn-color-fitted-level-1: #d4ebff;\n",
              "  --sklearn-color-fitted-level-2: #b3dbfd;\n",
              "  --sklearn-color-fitted-level-3: cornflowerblue;\n",
              "\n",
              "  /* Specific color for light theme */\n",
              "  --sklearn-color-text-on-default-background: var(--sg-text-color, var(--theme-code-foreground, var(--jp-content-font-color1, black)));\n",
              "  --sklearn-color-background: var(--sg-background-color, var(--theme-background, var(--jp-layout-color0, white)));\n",
              "  --sklearn-color-border-box: var(--sg-text-color, var(--theme-code-foreground, var(--jp-content-font-color1, black)));\n",
              "  --sklearn-color-icon: #696969;\n",
              "\n",
              "  @media (prefers-color-scheme: dark) {\n",
              "    /* Redefinition of color scheme for dark theme */\n",
              "    --sklearn-color-text-on-default-background: var(--sg-text-color, var(--theme-code-foreground, var(--jp-content-font-color1, white)));\n",
              "    --sklearn-color-background: var(--sg-background-color, var(--theme-background, var(--jp-layout-color0, #111)));\n",
              "    --sklearn-color-border-box: var(--sg-text-color, var(--theme-code-foreground, var(--jp-content-font-color1, white)));\n",
              "    --sklearn-color-icon: #878787;\n",
              "  }\n",
              "}\n",
              "\n",
              "#sk-container-id-1 {\n",
              "  color: var(--sklearn-color-text);\n",
              "}\n",
              "\n",
              "#sk-container-id-1 pre {\n",
              "  padding: 0;\n",
              "}\n",
              "\n",
              "#sk-container-id-1 input.sk-hidden--visually {\n",
              "  border: 0;\n",
              "  clip: rect(1px 1px 1px 1px);\n",
              "  clip: rect(1px, 1px, 1px, 1px);\n",
              "  height: 1px;\n",
              "  margin: -1px;\n",
              "  overflow: hidden;\n",
              "  padding: 0;\n",
              "  position: absolute;\n",
              "  width: 1px;\n",
              "}\n",
              "\n",
              "#sk-container-id-1 div.sk-dashed-wrapped {\n",
              "  border: 1px dashed var(--sklearn-color-line);\n",
              "  margin: 0 0.4em 0.5em 0.4em;\n",
              "  box-sizing: border-box;\n",
              "  padding-bottom: 0.4em;\n",
              "  background-color: var(--sklearn-color-background);\n",
              "}\n",
              "\n",
              "#sk-container-id-1 div.sk-container {\n",
              "  /* jupyter's `normalize.less` sets `[hidden] { display: none; }`\n",
              "     but bootstrap.min.css set `[hidden] { display: none !important; }`\n",
              "     so we also need the `!important` here to be able to override the\n",
              "     default hidden behavior on the sphinx rendered scikit-learn.org.\n",
              "     See: https://github.com/scikit-learn/scikit-learn/issues/21755 */\n",
              "  display: inline-block !important;\n",
              "  position: relative;\n",
              "}\n",
              "\n",
              "#sk-container-id-1 div.sk-text-repr-fallback {\n",
              "  display: none;\n",
              "}\n",
              "\n",
              "div.sk-parallel-item,\n",
              "div.sk-serial,\n",
              "div.sk-item {\n",
              "  /* draw centered vertical line to link estimators */\n",
              "  background-image: linear-gradient(var(--sklearn-color-text-on-default-background), var(--sklearn-color-text-on-default-background));\n",
              "  background-size: 2px 100%;\n",
              "  background-repeat: no-repeat;\n",
              "  background-position: center center;\n",
              "}\n",
              "\n",
              "/* Parallel-specific style estimator block */\n",
              "\n",
              "#sk-container-id-1 div.sk-parallel-item::after {\n",
              "  content: \"\";\n",
              "  width: 100%;\n",
              "  border-bottom: 2px solid var(--sklearn-color-text-on-default-background);\n",
              "  flex-grow: 1;\n",
              "}\n",
              "\n",
              "#sk-container-id-1 div.sk-parallel {\n",
              "  display: flex;\n",
              "  align-items: stretch;\n",
              "  justify-content: center;\n",
              "  background-color: var(--sklearn-color-background);\n",
              "  position: relative;\n",
              "}\n",
              "\n",
              "#sk-container-id-1 div.sk-parallel-item {\n",
              "  display: flex;\n",
              "  flex-direction: column;\n",
              "}\n",
              "\n",
              "#sk-container-id-1 div.sk-parallel-item:first-child::after {\n",
              "  align-self: flex-end;\n",
              "  width: 50%;\n",
              "}\n",
              "\n",
              "#sk-container-id-1 div.sk-parallel-item:last-child::after {\n",
              "  align-self: flex-start;\n",
              "  width: 50%;\n",
              "}\n",
              "\n",
              "#sk-container-id-1 div.sk-parallel-item:only-child::after {\n",
              "  width: 0;\n",
              "}\n",
              "\n",
              "/* Serial-specific style estimator block */\n",
              "\n",
              "#sk-container-id-1 div.sk-serial {\n",
              "  display: flex;\n",
              "  flex-direction: column;\n",
              "  align-items: center;\n",
              "  background-color: var(--sklearn-color-background);\n",
              "  padding-right: 1em;\n",
              "  padding-left: 1em;\n",
              "}\n",
              "\n",
              "\n",
              "/* Toggleable style: style used for estimator/Pipeline/ColumnTransformer box that is\n",
              "clickable and can be expanded/collapsed.\n",
              "- Pipeline and ColumnTransformer use this feature and define the default style\n",
              "- Estimators will overwrite some part of the style using the `sk-estimator` class\n",
              "*/\n",
              "\n",
              "/* Pipeline and ColumnTransformer style (default) */\n",
              "\n",
              "#sk-container-id-1 div.sk-toggleable {\n",
              "  /* Default theme specific background. It is overwritten whether we have a\n",
              "  specific estimator or a Pipeline/ColumnTransformer */\n",
              "  background-color: var(--sklearn-color-background);\n",
              "}\n",
              "\n",
              "/* Toggleable label */\n",
              "#sk-container-id-1 label.sk-toggleable__label {\n",
              "  cursor: pointer;\n",
              "  display: flex;\n",
              "  width: 100%;\n",
              "  margin-bottom: 0;\n",
              "  padding: 0.5em;\n",
              "  box-sizing: border-box;\n",
              "  text-align: center;\n",
              "  align-items: start;\n",
              "  justify-content: space-between;\n",
              "  gap: 0.5em;\n",
              "}\n",
              "\n",
              "#sk-container-id-1 label.sk-toggleable__label .caption {\n",
              "  font-size: 0.6rem;\n",
              "  font-weight: lighter;\n",
              "  color: var(--sklearn-color-text-muted);\n",
              "}\n",
              "\n",
              "#sk-container-id-1 label.sk-toggleable__label-arrow:before {\n",
              "  /* Arrow on the left of the label */\n",
              "  content: \"▸\";\n",
              "  float: left;\n",
              "  margin-right: 0.25em;\n",
              "  color: var(--sklearn-color-icon);\n",
              "}\n",
              "\n",
              "#sk-container-id-1 label.sk-toggleable__label-arrow:hover:before {\n",
              "  color: var(--sklearn-color-text);\n",
              "}\n",
              "\n",
              "/* Toggleable content - dropdown */\n",
              "\n",
              "#sk-container-id-1 div.sk-toggleable__content {\n",
              "  max-height: 0;\n",
              "  max-width: 0;\n",
              "  overflow: hidden;\n",
              "  text-align: left;\n",
              "  /* unfitted */\n",
              "  background-color: var(--sklearn-color-unfitted-level-0);\n",
              "}\n",
              "\n",
              "#sk-container-id-1 div.sk-toggleable__content.fitted {\n",
              "  /* fitted */\n",
              "  background-color: var(--sklearn-color-fitted-level-0);\n",
              "}\n",
              "\n",
              "#sk-container-id-1 div.sk-toggleable__content pre {\n",
              "  margin: 0.2em;\n",
              "  border-radius: 0.25em;\n",
              "  color: var(--sklearn-color-text);\n",
              "  /* unfitted */\n",
              "  background-color: var(--sklearn-color-unfitted-level-0);\n",
              "}\n",
              "\n",
              "#sk-container-id-1 div.sk-toggleable__content.fitted pre {\n",
              "  /* unfitted */\n",
              "  background-color: var(--sklearn-color-fitted-level-0);\n",
              "}\n",
              "\n",
              "#sk-container-id-1 input.sk-toggleable__control:checked~div.sk-toggleable__content {\n",
              "  /* Expand drop-down */\n",
              "  max-height: 200px;\n",
              "  max-width: 100%;\n",
              "  overflow: auto;\n",
              "}\n",
              "\n",
              "#sk-container-id-1 input.sk-toggleable__control:checked~label.sk-toggleable__label-arrow:before {\n",
              "  content: \"▾\";\n",
              "}\n",
              "\n",
              "/* Pipeline/ColumnTransformer-specific style */\n",
              "\n",
              "#sk-container-id-1 div.sk-label input.sk-toggleable__control:checked~label.sk-toggleable__label {\n",
              "  color: var(--sklearn-color-text);\n",
              "  background-color: var(--sklearn-color-unfitted-level-2);\n",
              "}\n",
              "\n",
              "#sk-container-id-1 div.sk-label.fitted input.sk-toggleable__control:checked~label.sk-toggleable__label {\n",
              "  background-color: var(--sklearn-color-fitted-level-2);\n",
              "}\n",
              "\n",
              "/* Estimator-specific style */\n",
              "\n",
              "/* Colorize estimator box */\n",
              "#sk-container-id-1 div.sk-estimator input.sk-toggleable__control:checked~label.sk-toggleable__label {\n",
              "  /* unfitted */\n",
              "  background-color: var(--sklearn-color-unfitted-level-2);\n",
              "}\n",
              "\n",
              "#sk-container-id-1 div.sk-estimator.fitted input.sk-toggleable__control:checked~label.sk-toggleable__label {\n",
              "  /* fitted */\n",
              "  background-color: var(--sklearn-color-fitted-level-2);\n",
              "}\n",
              "\n",
              "#sk-container-id-1 div.sk-label label.sk-toggleable__label,\n",
              "#sk-container-id-1 div.sk-label label {\n",
              "  /* The background is the default theme color */\n",
              "  color: var(--sklearn-color-text-on-default-background);\n",
              "}\n",
              "\n",
              "/* On hover, darken the color of the background */\n",
              "#sk-container-id-1 div.sk-label:hover label.sk-toggleable__label {\n",
              "  color: var(--sklearn-color-text);\n",
              "  background-color: var(--sklearn-color-unfitted-level-2);\n",
              "}\n",
              "\n",
              "/* Label box, darken color on hover, fitted */\n",
              "#sk-container-id-1 div.sk-label.fitted:hover label.sk-toggleable__label.fitted {\n",
              "  color: var(--sklearn-color-text);\n",
              "  background-color: var(--sklearn-color-fitted-level-2);\n",
              "}\n",
              "\n",
              "/* Estimator label */\n",
              "\n",
              "#sk-container-id-1 div.sk-label label {\n",
              "  font-family: monospace;\n",
              "  font-weight: bold;\n",
              "  display: inline-block;\n",
              "  line-height: 1.2em;\n",
              "}\n",
              "\n",
              "#sk-container-id-1 div.sk-label-container {\n",
              "  text-align: center;\n",
              "}\n",
              "\n",
              "/* Estimator-specific */\n",
              "#sk-container-id-1 div.sk-estimator {\n",
              "  font-family: monospace;\n",
              "  border: 1px dotted var(--sklearn-color-border-box);\n",
              "  border-radius: 0.25em;\n",
              "  box-sizing: border-box;\n",
              "  margin-bottom: 0.5em;\n",
              "  /* unfitted */\n",
              "  background-color: var(--sklearn-color-unfitted-level-0);\n",
              "}\n",
              "\n",
              "#sk-container-id-1 div.sk-estimator.fitted {\n",
              "  /* fitted */\n",
              "  background-color: var(--sklearn-color-fitted-level-0);\n",
              "}\n",
              "\n",
              "/* on hover */\n",
              "#sk-container-id-1 div.sk-estimator:hover {\n",
              "  /* unfitted */\n",
              "  background-color: var(--sklearn-color-unfitted-level-2);\n",
              "}\n",
              "\n",
              "#sk-container-id-1 div.sk-estimator.fitted:hover {\n",
              "  /* fitted */\n",
              "  background-color: var(--sklearn-color-fitted-level-2);\n",
              "}\n",
              "\n",
              "/* Specification for estimator info (e.g. \"i\" and \"?\") */\n",
              "\n",
              "/* Common style for \"i\" and \"?\" */\n",
              "\n",
              ".sk-estimator-doc-link,\n",
              "a:link.sk-estimator-doc-link,\n",
              "a:visited.sk-estimator-doc-link {\n",
              "  float: right;\n",
              "  font-size: smaller;\n",
              "  line-height: 1em;\n",
              "  font-family: monospace;\n",
              "  background-color: var(--sklearn-color-background);\n",
              "  border-radius: 1em;\n",
              "  height: 1em;\n",
              "  width: 1em;\n",
              "  text-decoration: none !important;\n",
              "  margin-left: 0.5em;\n",
              "  text-align: center;\n",
              "  /* unfitted */\n",
              "  border: var(--sklearn-color-unfitted-level-1) 1pt solid;\n",
              "  color: var(--sklearn-color-unfitted-level-1);\n",
              "}\n",
              "\n",
              ".sk-estimator-doc-link.fitted,\n",
              "a:link.sk-estimator-doc-link.fitted,\n",
              "a:visited.sk-estimator-doc-link.fitted {\n",
              "  /* fitted */\n",
              "  border: var(--sklearn-color-fitted-level-1) 1pt solid;\n",
              "  color: var(--sklearn-color-fitted-level-1);\n",
              "}\n",
              "\n",
              "/* On hover */\n",
              "div.sk-estimator:hover .sk-estimator-doc-link:hover,\n",
              ".sk-estimator-doc-link:hover,\n",
              "div.sk-label-container:hover .sk-estimator-doc-link:hover,\n",
              ".sk-estimator-doc-link:hover {\n",
              "  /* unfitted */\n",
              "  background-color: var(--sklearn-color-unfitted-level-3);\n",
              "  color: var(--sklearn-color-background);\n",
              "  text-decoration: none;\n",
              "}\n",
              "\n",
              "div.sk-estimator.fitted:hover .sk-estimator-doc-link.fitted:hover,\n",
              ".sk-estimator-doc-link.fitted:hover,\n",
              "div.sk-label-container:hover .sk-estimator-doc-link.fitted:hover,\n",
              ".sk-estimator-doc-link.fitted:hover {\n",
              "  /* fitted */\n",
              "  background-color: var(--sklearn-color-fitted-level-3);\n",
              "  color: var(--sklearn-color-background);\n",
              "  text-decoration: none;\n",
              "}\n",
              "\n",
              "/* Span, style for the box shown on hovering the info icon */\n",
              ".sk-estimator-doc-link span {\n",
              "  display: none;\n",
              "  z-index: 9999;\n",
              "  position: relative;\n",
              "  font-weight: normal;\n",
              "  right: .2ex;\n",
              "  padding: .5ex;\n",
              "  margin: .5ex;\n",
              "  width: min-content;\n",
              "  min-width: 20ex;\n",
              "  max-width: 50ex;\n",
              "  color: var(--sklearn-color-text);\n",
              "  box-shadow: 2pt 2pt 4pt #999;\n",
              "  /* unfitted */\n",
              "  background: var(--sklearn-color-unfitted-level-0);\n",
              "  border: .5pt solid var(--sklearn-color-unfitted-level-3);\n",
              "}\n",
              "\n",
              ".sk-estimator-doc-link.fitted span {\n",
              "  /* fitted */\n",
              "  background: var(--sklearn-color-fitted-level-0);\n",
              "  border: var(--sklearn-color-fitted-level-3);\n",
              "}\n",
              "\n",
              ".sk-estimator-doc-link:hover span {\n",
              "  display: block;\n",
              "}\n",
              "\n",
              "/* \"?\"-specific style due to the `<a>` HTML tag */\n",
              "\n",
              "#sk-container-id-1 a.estimator_doc_link {\n",
              "  float: right;\n",
              "  font-size: 1rem;\n",
              "  line-height: 1em;\n",
              "  font-family: monospace;\n",
              "  background-color: var(--sklearn-color-background);\n",
              "  border-radius: 1rem;\n",
              "  height: 1rem;\n",
              "  width: 1rem;\n",
              "  text-decoration: none;\n",
              "  /* unfitted */\n",
              "  color: var(--sklearn-color-unfitted-level-1);\n",
              "  border: var(--sklearn-color-unfitted-level-1) 1pt solid;\n",
              "}\n",
              "\n",
              "#sk-container-id-1 a.estimator_doc_link.fitted {\n",
              "  /* fitted */\n",
              "  border: var(--sklearn-color-fitted-level-1) 1pt solid;\n",
              "  color: var(--sklearn-color-fitted-level-1);\n",
              "}\n",
              "\n",
              "/* On hover */\n",
              "#sk-container-id-1 a.estimator_doc_link:hover {\n",
              "  /* unfitted */\n",
              "  background-color: var(--sklearn-color-unfitted-level-3);\n",
              "  color: var(--sklearn-color-background);\n",
              "  text-decoration: none;\n",
              "}\n",
              "\n",
              "#sk-container-id-1 a.estimator_doc_link.fitted:hover {\n",
              "  /* fitted */\n",
              "  background-color: var(--sklearn-color-fitted-level-3);\n",
              "}\n",
              "</style><div id=\"sk-container-id-1\" class=\"sk-top-container\"><div class=\"sk-text-repr-fallback\"><pre>GaussianMixture(n_components=3, n_init=10)</pre><b>In a Jupyter environment, please rerun this cell to show the HTML representation or trust the notebook. <br />On GitHub, the HTML representation is unable to render, please try loading this page with nbviewer.org.</b></div><div class=\"sk-container\" hidden><div class=\"sk-item\"><div class=\"sk-estimator fitted sk-toggleable\"><input class=\"sk-toggleable__control sk-hidden--visually\" id=\"sk-estimator-id-1\" type=\"checkbox\" checked><label for=\"sk-estimator-id-1\" class=\"sk-toggleable__label fitted sk-toggleable__label-arrow\"><div><div>GaussianMixture</div></div><div><a class=\"sk-estimator-doc-link fitted\" rel=\"noreferrer\" target=\"_blank\" href=\"https://scikit-learn.org/1.6/modules/generated/sklearn.mixture.GaussianMixture.html\">?<span>Documentation for GaussianMixture</span></a><span class=\"sk-estimator-doc-link fitted\">i<span>Fitted</span></span></div></label><div class=\"sk-toggleable__content fitted\"><pre>GaussianMixture(n_components=3, n_init=10)</pre></div> </div></div></div></div>"
            ]
          },
          "metadata": {},
          "execution_count": 2
        }
      ],
      "source": [
        "from sklearn.mixture import GaussianMixture\n",
        "\n",
        "gm = GaussianMixture(n_components=3, n_init=10)\n",
        "gm.fit(X)"
      ]
    },
    {
      "cell_type": "markdown",
      "source": [
        "이 알고리즘이 추정한 파라미터 확인."
      ],
      "metadata": {
        "id": "HIh2il8C45Jz"
      }
    },
    {
      "cell_type": "code",
      "source": [
        "gm.weights_"
      ],
      "metadata": {
        "id": "cB3YmRvI44Wj",
        "colab": {
          "base_uri": "https://localhost:8080/"
        },
        "outputId": "726453af-fa8b-488c-a355-4ef2c17c55e8"
      },
      "execution_count": 3,
      "outputs": [
        {
          "output_type": "execute_result",
          "data": {
            "text/plain": [
              "array([0.60922231, 0.20001342, 0.19076427])"
            ]
          },
          "metadata": {},
          "execution_count": 3
        }
      ]
    },
    {
      "cell_type": "code",
      "source": [
        "gm.means_"
      ],
      "metadata": {
        "id": "vnFhn2e247tD",
        "colab": {
          "base_uri": "https://localhost:8080/"
        },
        "outputId": "99ee7466-f90e-4e5b-bbcf-cd14d4db76a8"
      },
      "execution_count": 5,
      "outputs": [
        {
          "output_type": "execute_result",
          "data": {
            "text/plain": [
              "array([[ 0.48701397,  0.2619038 ],\n",
              "       [ 1.75274828, -0.04890987],\n",
              "       [-0.77266757,  0.53710723]])"
            ]
          },
          "metadata": {},
          "execution_count": 5
        }
      ]
    },
    {
      "cell_type": "code",
      "source": [
        "gm.covariances_"
      ],
      "metadata": {
        "id": "GmCKgcJf48dn",
        "colab": {
          "base_uri": "https://localhost:8080/"
        },
        "outputId": "9c0ad567-5b7d-4e24-ebd8-2d90f00af27c"
      },
      "execution_count": 6,
      "outputs": [
        {
          "output_type": "execute_result",
          "data": {
            "text/plain": [
              "array([[[ 0.18197672, -0.11537087],\n",
              "        [-0.11537087,  0.29323356]],\n",
              "\n",
              "       [[ 0.05069573,  0.06052909],\n",
              "        [ 0.06052909,  0.08709579]],\n",
              "\n",
              "       [[ 0.04031055,  0.05283696],\n",
              "        [ 0.05283696,  0.08571576]]])"
            ]
          },
          "metadata": {},
          "execution_count": 6
        }
      ]
    },
    {
      "cell_type": "markdown",
      "source": [
        "이 클래스는 **기댓값-최대화** (EM) 알고리즘 사용한다.\n",
        "\n",
        "클러스터 파라미터를 랜덤하게 초기화하고 수렴할때까지 두 단계를 반복한다.\n",
        "\n",
        "먼저 샘플을 클러스터에 할당하고, (**기댓값 단계**)\n",
        "\n",
        "클러스터를 업데이트한다. (**최대화 단계**)\n",
        "\n",
        "k-평균과 달리 **EM**은 하드 클러스터 할당이 아니라 **소프트 클러스터 할당**을 사용한다.\n",
        "\n",
        "예를 들어 기댓값 단계에서 알고리즘은 (현재 클러스터 파라미터에 기반하여) 각 클러스터에 속할 확률을 예측한다.\n",
        "\n",
        "그다음 최대화 단계에서 각 클러스터가 데이터셋에 있는 모든 샘플을 사용해 업데이트된다.\n",
        "\n",
        "클러스터에 속할 추정 확률로 샘플에 가중치가 적용된다.\n",
        "\n",
        "이 확률을 샘플에 대한 클러스터의 **책임**이라고 부른다.\n",
        "\n",
        "최대화 단계에서 클러스터 업데이트는 책임이 가장 많은 샘플에 크게 영향을 받는다.\n",
        "\n"
      ],
      "metadata": {
        "id": "73AnnHyP5AXp"
      }
    },
    {
      "cell_type": "markdown",
      "source": [
        "알고리즘이 수렴했는지 여부와 반복 횟수 확인."
      ],
      "metadata": {
        "id": "0s6cHzPV6PaL"
      }
    },
    {
      "cell_type": "code",
      "source": [
        "gm.converged_"
      ],
      "metadata": {
        "id": "B28ZawLJ6Oqf",
        "colab": {
          "base_uri": "https://localhost:8080/"
        },
        "outputId": "9b527651-158f-4179-f440-36796390f605"
      },
      "execution_count": 7,
      "outputs": [
        {
          "output_type": "execute_result",
          "data": {
            "text/plain": [
              "True"
            ]
          },
          "metadata": {},
          "execution_count": 7
        }
      ]
    },
    {
      "cell_type": "code",
      "source": [
        "gm.n_iter_"
      ],
      "metadata": {
        "id": "p0AZVLoe6S04",
        "colab": {
          "base_uri": "https://localhost:8080/"
        },
        "outputId": "86fa93e4-639e-409a-9040-d9ec2de513a2"
      },
      "execution_count": 8,
      "outputs": [
        {
          "output_type": "execute_result",
          "data": {
            "text/plain": [
              "17"
            ]
          },
          "metadata": {},
          "execution_count": 8
        }
      ]
    },
    {
      "cell_type": "markdown",
      "source": [
        "새로운 샘플을 가장 비슷한 클러스터에 할당 (하드 군집) -> predict()\n",
        "\n",
        "특정 클러스터에 속할 확률 예측 (소프트 군집) -> predict_proba()"
      ],
      "metadata": {
        "id": "c8LNBs8y6WGg"
      }
    },
    {
      "cell_type": "code",
      "source": [
        "gm.predict(X)"
      ],
      "metadata": {
        "id": "PijcWIkY6e0O",
        "colab": {
          "base_uri": "https://localhost:8080/"
        },
        "outputId": "4d1f56b7-e965-4686-f6aa-c1b3b2137dea"
      },
      "execution_count": 9,
      "outputs": [
        {
          "output_type": "execute_result",
          "data": {
            "text/plain": [
              "array([0, 1, 0, 0, 0, 0, 0, 2, 1, 0, 1, 1, 0, 0, 0, 0, 2, 0, 0, 0, 0, 1,\n",
              "       0, 0, 0, 1, 2, 2, 2, 2, 2, 0, 0, 2, 1, 0, 0, 1, 2, 2, 0, 2, 2, 0,\n",
              "       0, 1, 0, 1, 0, 1, 0, 2, 0, 1, 0, 2, 1, 1, 0, 0, 1, 0, 2, 0, 0, 0,\n",
              "       0, 0, 0, 0, 0, 0, 0, 2, 2, 0, 0, 0, 0, 2, 0, 2, 1, 1, 0, 0, 0, 0,\n",
              "       0, 0, 1, 0, 0, 0, 1, 0, 0, 1, 1, 0, 0, 0, 0, 1, 0, 2, 0, 0, 1, 1,\n",
              "       0, 2, 2, 1, 0, 0, 0, 0, 1, 0, 0, 0, 1, 0, 1, 0, 2, 0, 2, 1, 0, 0,\n",
              "       2, 0, 0, 0, 1, 0, 1, 0, 0, 2, 2, 1, 0, 0, 1, 0, 0, 0, 0, 0, 2, 0,\n",
              "       1, 0, 0, 0, 0, 1, 0, 2, 0, 2, 1, 0, 2, 0, 0, 0, 2, 0, 0, 0, 0, 2,\n",
              "       0, 1, 0, 0, 0, 0, 0, 0, 0, 1, 0, 0, 1, 1, 0, 0, 1, 0, 0, 0, 0, 0,\n",
              "       0, 0, 1, 1, 0, 2, 1, 0, 0, 0, 0, 0, 2, 2, 1, 0, 0, 0, 0, 1, 0, 0,\n",
              "       2, 0, 0, 0, 0, 1, 1, 0, 0, 2, 1, 0, 0, 2, 2, 2, 0, 0, 0, 1, 0, 0,\n",
              "       2, 2, 0, 0, 0, 1, 0, 0, 0, 0, 0, 0, 1, 0, 0, 0, 0, 0, 0, 0, 1, 0,\n",
              "       1, 0, 0, 0, 2, 0, 2, 0, 0, 0, 0, 0, 0, 2, 0, 0, 0, 2, 0, 0, 0, 0,\n",
              "       0, 0, 0, 2, 0, 0, 0, 1, 2, 2, 1, 0, 0, 2, 1, 0, 2, 0, 0, 0, 0, 2,\n",
              "       0, 0, 0, 0, 2, 0, 0, 1, 0, 0, 0, 0, 1, 2, 1, 2, 0, 0, 0, 2, 0, 0,\n",
              "       2, 1, 0, 2, 0, 0, 2, 0, 0, 0, 0, 1, 2, 0, 0, 2, 0, 0, 2, 0, 0, 2,\n",
              "       1, 0, 0, 0, 2, 1, 0, 2, 0, 2, 0, 2, 2, 0, 0, 1, 1, 0, 2, 0, 0, 2,\n",
              "       1, 0, 1, 1, 0, 0, 0, 2, 1, 0, 2, 0, 2, 0, 1, 0, 2, 0, 2, 1, 0, 2,\n",
              "       0, 0, 0, 1, 0, 0, 2, 1, 1, 0, 1, 0, 0, 2, 0, 0, 1, 0, 1, 2, 1, 2,\n",
              "       0, 1, 0, 1, 0, 0, 1, 0, 1, 2, 0, 1, 2, 0, 0, 2, 0, 0, 1, 0, 0, 0,\n",
              "       1, 1, 2, 0, 1, 0, 2, 1, 1, 1, 2, 2, 0, 1, 0, 0, 0, 2, 1, 2, 0, 0,\n",
              "       0, 0, 0, 0, 0, 2, 0, 0, 0, 0, 2, 2, 0, 0, 2, 2, 0, 0, 2, 0, 0, 2,\n",
              "       2, 0, 0, 1, 0, 1, 0, 1, 0, 0, 0, 0, 0, 0, 0, 0, 0, 0, 0, 0, 0, 1,\n",
              "       1, 0, 0, 0, 0, 1, 0, 0, 0, 0, 2, 2, 0, 0, 2, 2, 2, 2, 0, 1, 1, 2,\n",
              "       1, 0, 1, 2, 0, 0, 0, 1, 0, 0, 2, 0, 0, 0, 2, 1, 0, 2, 2, 0, 2, 0,\n",
              "       0, 0, 1, 0, 1, 0, 2, 0, 1, 0, 1, 0, 0, 2, 0, 0, 0, 0, 0, 0, 0, 1,\n",
              "       1, 1, 0, 1, 0, 0, 0, 0, 0, 0, 0, 1, 0, 1, 2, 1, 1, 0, 0, 1, 1, 2,\n",
              "       2, 0, 0, 2, 0, 0, 0, 1, 2, 0, 0, 0, 0, 0, 1, 2, 0, 2, 1, 0, 0, 2,\n",
              "       0, 0, 0, 0, 0, 0, 0, 1, 0, 0, 0, 0, 0, 0, 0, 0, 1, 0, 2, 0, 1, 0,\n",
              "       1, 0, 2, 0, 1, 0, 2, 1, 2, 0, 0, 1, 0, 1, 0, 0, 1, 1, 0, 0, 0, 0,\n",
              "       1, 1, 2, 2, 2, 0, 2, 1, 0, 0, 0, 2, 1, 0, 0, 2, 0, 0, 0, 0, 0, 0,\n",
              "       0, 1, 1, 1, 0, 2, 2, 0, 0, 0, 2, 0, 1, 1, 1, 0, 1, 0, 0, 0, 0, 1,\n",
              "       2, 2, 1, 0, 2, 0, 0, 0, 1, 0, 1, 1, 0, 0, 2, 0, 1, 1, 1, 0, 2, 0,\n",
              "       0, 1, 1, 1, 2, 0, 2, 2, 1, 0, 2, 1, 2, 0, 1, 2, 2, 0, 0, 0, 0, 1,\n",
              "       1, 0, 2, 1, 0, 1, 2, 1, 0, 0, 0, 0, 0, 0, 0, 1, 0, 0, 0, 2, 1, 0,\n",
              "       2, 0, 0, 2, 1, 0, 0, 2, 0, 1, 1, 2, 2, 0, 0, 0, 0, 2, 1, 0, 0, 2,\n",
              "       1, 1, 0, 0, 0, 1, 0, 0, 2, 0, 1, 0, 0, 0, 1, 2, 0, 2, 0, 0, 0, 1,\n",
              "       2, 0, 2, 1, 0, 0, 1, 1, 0, 0, 0, 2, 0, 0, 0, 0, 0, 0, 2, 0, 0, 0,\n",
              "       0, 0, 0, 0, 0, 0, 0, 0, 0, 0, 1, 2, 0, 0, 0, 0, 2, 1, 2, 2, 0, 0,\n",
              "       0, 0, 1, 0, 0, 0, 2, 2, 0, 0, 0, 2, 2, 0, 0, 0, 2, 0, 0, 2, 0, 0,\n",
              "       0, 1, 0, 1, 0, 0, 1, 0, 0, 0, 2, 0, 0, 0, 0, 2, 2, 0, 0, 0, 0, 2,\n",
              "       0, 0, 1, 2, 1, 0, 2, 2, 2, 0, 0, 1, 0, 0, 0, 0, 0, 0, 2, 1, 0, 0,\n",
              "       1, 1, 0, 0, 0, 2, 2, 0, 0, 0, 0, 0, 0, 2, 0, 0, 0, 1, 2, 0, 0, 2,\n",
              "       0, 0, 0, 2, 0, 0, 0, 0, 0, 0, 0, 0, 0, 2, 0, 0, 0, 0, 1, 0, 1, 0,\n",
              "       0, 0, 0, 0, 1, 2, 1, 0, 1, 1, 0, 0, 1, 0, 1, 1, 0, 2, 0, 1, 0, 0,\n",
              "       1, 0, 1, 1, 0, 0, 1, 0, 0, 0])"
            ]
          },
          "metadata": {},
          "execution_count": 9
        }
      ]
    },
    {
      "cell_type": "code",
      "source": [
        "gm.predict_proba(X)"
      ],
      "metadata": {
        "id": "MSQXwzEm6ghB",
        "colab": {
          "base_uri": "https://localhost:8080/"
        },
        "outputId": "e4c6c0d7-9d4f-4703-8def-bc48c298d4a6"
      },
      "execution_count": 10,
      "outputs": [
        {
          "output_type": "execute_result",
          "data": {
            "text/plain": [
              "array([[9.99773873e-001, 2.26127007e-004, 7.46223553e-171],\n",
              "       [1.60375905e-004, 9.99839624e-001, 9.22784819e-233],\n",
              "       [1.00000000e+000, 2.21010693e-057, 3.07582730e-053],\n",
              "       ...,\n",
              "       [1.00000000e+000, 1.06806259e-064, 2.08027139e-047],\n",
              "       [1.00000000e+000, 1.78364987e-014, 6.11708677e-127],\n",
              "       [1.00000000e+000, 7.51743451e-030, 7.27730427e-091]])"
            ]
          },
          "metadata": {},
          "execution_count": 10
        }
      ]
    },
    {
      "cell_type": "markdown",
      "source": [
        "가우시안 혼합 모델은 **생성 모델**이다.\n",
        "\n",
        "즉, 이 모델에서 새로운 샘플을 만들 수 있다."
      ],
      "metadata": {
        "id": "E_zDSTs-6izd"
      }
    },
    {
      "cell_type": "code",
      "source": [
        "X_new, y_new = gm.sample(6)\n",
        "X_new"
      ],
      "metadata": {
        "id": "FBSYXDoB6l1P",
        "colab": {
          "base_uri": "https://localhost:8080/"
        },
        "outputId": "ebea6e77-ec1a-49e7-a375-7ab03af23b72"
      },
      "execution_count": 11,
      "outputs": [
        {
          "output_type": "execute_result",
          "data": {
            "text/plain": [
              "array([[-0.04472619,  0.15012257],\n",
              "       [ 0.74865346,  0.59945773],\n",
              "       [-0.01823586,  0.38847578],\n",
              "       [ 1.8701089 ,  0.19502967],\n",
              "       [ 1.54747012, -0.55050968],\n",
              "       [ 1.74950288, -0.0475853 ]])"
            ]
          },
          "metadata": {},
          "execution_count": 11
        }
      ]
    },
    {
      "cell_type": "code",
      "source": [
        "y_new"
      ],
      "metadata": {
        "id": "sFrl9ZYb6pgY",
        "colab": {
          "base_uri": "https://localhost:8080/"
        },
        "outputId": "ebb15f0f-4469-4914-d18b-fa6d2a600f8f"
      },
      "execution_count": 12,
      "outputs": [
        {
          "output_type": "execute_result",
          "data": {
            "text/plain": [
              "array([0, 0, 0, 1, 1, 1])"
            ]
          },
          "metadata": {},
          "execution_count": 12
        }
      ]
    },
    {
      "cell_type": "markdown",
      "source": [
        "또한 주어진 위치에서 모델의 밀도를 추정할 수 있다.\n",
        "\n",
        "이를 위해 score_samples() 메서드를 사용한다.\n",
        "\n",
        "샘플이 주어지면 이 메서드는 그 위치의 **확률 밀도 함수**의 로그를 예측한다.\n",
        "\n",
        "점수가 높을수록 밀도가 높다."
      ],
      "metadata": {
        "id": "zTUq_fR46rbN"
      }
    },
    {
      "cell_type": "code",
      "source": [
        "gm.score_samples(X)"
      ],
      "metadata": {
        "colab": {
          "base_uri": "https://localhost:8080/"
        },
        "id": "iltZw0louXcA",
        "outputId": "d57e2bc0-25aa-4e0c-d239-6f785b085032"
      },
      "execution_count": 17,
      "outputs": [
        {
          "output_type": "execute_result",
          "data": {
            "text/plain": [
              "array([-1.93740728e+00, -9.97390686e-01, -2.04526741e+00, -1.63183391e+00,\n",
              "       -1.80730064e+00, -1.49771667e+00, -2.07007717e+00, -1.47873162e+00,\n",
              "       -3.66654194e-01, -1.46093916e+00, -4.73059049e-01, -2.94017331e-01,\n",
              "       -2.04393486e+00, -1.66094868e+00, -2.00138761e+00, -1.63048621e+00,\n",
              "       -1.86985944e+00, -1.90131872e+00, -1.62967294e+00, -1.68709026e+00,\n",
              "       -1.74161676e+00, -6.51395910e-01, -1.80607759e+00, -1.56428196e+00,\n",
              "       -1.89755381e+00, -8.31625318e-01, -6.46646563e-01, -1.54478825e+00,\n",
              "       -9.74514655e-01, -1.07791303e-02, -2.55159958e-03, -1.36434400e+00,\n",
              "       -1.70931259e+00, -1.52997277e+00, -1.81361479e-01, -1.29471747e+00,\n",
              "       -1.86891136e+00, -2.50644243e-01, -4.53276413e-01, -1.54783334e+00,\n",
              "       -1.84744397e+00, -4.21273277e-01, -2.81654679e+00, -1.32276338e+00,\n",
              "       -1.69235808e+00, -1.02843554e-03, -2.19720152e+00, -2.67084849e-01,\n",
              "       -1.50144000e+00, -1.88918503e+00, -1.41675306e+00, -7.41538773e-01,\n",
              "       -2.02473556e+00, -1.46948884e+00, -2.27112803e+00, -5.26175790e-01,\n",
              "       -9.30344379e-01, -1.02268402e+00, -1.57043567e+00, -1.60201687e+00,\n",
              "       -2.78199823e-01, -1.36716675e+00, -7.62954946e-01, -1.37807617e+00,\n",
              "       -2.29572987e+00, -1.64582501e+00, -1.36386239e+00, -2.17684330e+00,\n",
              "       -1.65839149e+00, -1.72686803e+00, -1.49837166e+00, -2.13316315e+00,\n",
              "       -1.71493825e+00, -1.10906578e+00, -1.29145954e+00, -1.58378209e+00,\n",
              "       -1.67431500e+00, -1.82884881e+00, -1.63951797e+00, -1.34433762e+00,\n",
              "       -1.76791870e+00, -8.85512818e-01, -6.42468262e-01, -1.12386779e+00,\n",
              "       -1.53816069e+00, -1.70119050e+00, -2.15048787e+00, -2.01311521e+00,\n",
              "       -1.68206638e+00, -1.55417545e+00, -5.23647628e-01, -1.60358625e+00,\n",
              "       -1.48887578e+00, -1.48051671e+00, -1.46988086e+00, -1.59693101e+00,\n",
              "       -1.86444713e+00, -5.32858457e-02, -3.50454387e-01, -1.81377175e+00,\n",
              "       -1.63306091e+00, -1.36998731e+00, -1.36059255e+00, -5.16649841e-02,\n",
              "       -1.30952505e+00, -7.95915069e-02, -1.59958768e+00, -1.58000223e+00,\n",
              "        5.01391578e-02, -9.98332173e-01, -1.88071440e+00, -1.83889995e+00,\n",
              "       -4.47871470e-01,  1.08611974e-02, -1.65823887e+00, -1.43750121e+00,\n",
              "       -1.50884283e+00, -1.83744458e+00, -1.66139322e+00, -1.92727070e+00,\n",
              "       -1.89036710e+00, -1.68746458e+00, -7.62917359e-01, -1.75477853e+00,\n",
              "       -9.78019959e-01, -1.49689664e+00, -1.07656569e+00, -1.91056811e+00,\n",
              "       -3.04258230e-01, -1.86277991e+00, -1.40940850e+00, -1.54264131e+00,\n",
              "       -1.10327432e+00, -1.56858354e+00, -2.21198767e+00, -1.41519309e+00,\n",
              "       -2.04312401e+00, -1.41965533e+00, -1.41476398e+00, -1.59885872e+00,\n",
              "       -1.63605478e+00,  5.72126172e-02, -6.15554677e-02, -6.40553624e-01,\n",
              "       -1.68405018e+00, -1.32751202e+00, -9.02750723e-01, -2.34052950e+00,\n",
              "       -1.75959325e+00, -1.38708136e+00, -1.35247121e+00, -1.88115787e+00,\n",
              "       -8.13520775e-01, -1.46006622e+00, -1.36292103e-01, -1.42498056e+00,\n",
              "       -2.06747110e+00, -1.56282216e+00, -1.75010708e+00, -1.60395489e+00,\n",
              "       -1.82579510e+00,  1.66684982e-03, -1.67309349e+00, -8.39542628e-01,\n",
              "       -9.86553679e-01, -2.19371743e+00, -2.06951485e-01, -1.39034070e+00,\n",
              "       -1.35359774e+00, -1.62110189e+00, -7.20177682e-01, -1.62031755e+00,\n",
              "       -1.81726853e+00, -1.68557310e+00, -1.82079525e+00, -2.89900877e-01,\n",
              "       -1.86349041e+00, -2.63596158e-01, -1.94619242e+00, -1.88298802e+00,\n",
              "       -1.38567193e+00, -1.31994873e+00, -2.01574457e+00, -1.38264849e+00,\n",
              "       -1.98677965e+00, -1.77030972e+00, -2.24439049e+00, -1.38078341e+00,\n",
              "       -1.81320426e-01, -7.62995700e-01, -1.56140830e+00, -1.46329520e+00,\n",
              "       -1.41449123e-01, -2.17741850e+00, -1.94707566e+00, -1.95610201e+00,\n",
              "       -1.48851206e+00, -1.33992035e+00, -1.29976430e+00, -1.90783937e+00,\n",
              "       -1.34000615e+00, -1.17880488e-01, -2.02945583e+00, -1.60206037e-01,\n",
              "       -2.06727516e-01, -1.76279272e+00, -1.89735826e+00, -2.04041015e+00,\n",
              "       -1.92604073e+00, -1.65362652e+00,  6.45436059e-02, -5.78810374e-01,\n",
              "       -3.68509732e-01, -1.68271112e+00, -1.68539139e+00, -1.33906196e+00,\n",
              "       -1.84809565e+00, -2.86293031e-01, -1.88341957e+00, -2.29186921e+00,\n",
              "       -7.16730619e-01, -1.71091698e+00, -1.72742259e+00, -1.59881280e+00,\n",
              "       -2.14435109e+00, -7.93835303e-01,  2.61169959e-03, -1.60762966e+00,\n",
              "       -1.72691071e+00, -4.47003053e-01, -6.98752123e-01, -1.93139303e+00,\n",
              "       -1.46947669e+00, -1.43865049e-01, -8.47010349e-01, -2.61378937e+00,\n",
              "       -1.62996862e+00, -1.45955982e+00, -1.63604890e+00, -1.76918063e+00,\n",
              "       -1.54965420e+00, -1.84033342e+00, -2.06730502e-01, -6.40664762e-01,\n",
              "       -1.72924826e+00, -1.85019114e+00, -1.56945927e+00, -3.63749059e-01,\n",
              "       -2.12800011e+00, -1.25075616e+00, -1.74365870e+00, -2.22576313e+00,\n",
              "       -1.63882817e+00, -1.51072169e+00, -8.49974320e-01, -2.15236727e+00,\n",
              "       -2.24119556e+00, -1.28872400e+00, -1.94143787e+00, -1.56594493e+00,\n",
              "       -1.56045125e+00, -1.70666129e+00, -7.05320104e-01, -1.61142202e+00,\n",
              "       -3.43549428e-01, -1.14493301e+00, -1.43074609e+00, -2.19883879e+00,\n",
              "       -1.24106469e-02, -2.05520590e+00, -3.71190801e-01, -1.77131203e+00,\n",
              "       -1.97985933e+00, -1.55034667e+00, -1.74246836e+00, -1.77070764e+00,\n",
              "       -1.42462751e+00, -4.75992781e-01, -1.47110533e+00, -2.27213575e+00,\n",
              "       -1.56365941e+00, -7.28461805e-01, -2.15455269e+00, -1.29936358e+00,\n",
              "       -1.33658053e+00, -1.57177277e+00, -1.56068801e+00, -1.80546872e+00,\n",
              "       -1.80144354e+00, -2.76922847e-01, -1.64864117e+00, -1.69690030e+00,\n",
              "       -1.65886444e+00, -5.62272717e-01, -1.99939066e+00, -1.04224650e+00,\n",
              "       -1.92921320e-01, -1.42434945e+00, -1.75842292e+00, -8.56796062e-01,\n",
              "       -6.01018455e-01, -1.66124444e+00, -3.73206893e-01, -2.13261722e+00,\n",
              "       -1.19867159e+00, -1.79749334e+00, -1.89694458e+00, -2.16711194e+00,\n",
              "       -1.20282691e+00, -1.84026438e+00, -1.35519459e+00, -1.41717410e+00,\n",
              "       -7.44520559e-01, -1.82585080e+00, -1.48720636e+00, -1.74988771e+00,\n",
              "       -1.61348914e+00, -1.63246155e+00, -1.38831102e+00, -1.43286479e+00,\n",
              "       -4.73785566e-01, -2.39432700e-01, -1.14208905e+00, -8.34736575e-01,\n",
              "       -2.20407464e+00, -1.76870443e+00, -2.19879378e+00, -4.40594187e-01,\n",
              "       -1.30616038e+00, -2.02999413e+00, -7.24968816e-01, -8.87896380e-01,\n",
              "       -1.79705400e+00, -2.19805515e+00, -1.50458819e+00, -1.53015168e+00,\n",
              "       -7.57171123e-01, -1.23410938e+00, -1.56895312e+00, -1.32377377e+00,\n",
              "       -2.15292718e+00, -1.41980026e+00, -1.42119096e-02, -1.81622073e+00,\n",
              "       -1.67536558e+00, -9.10119372e-01, -1.55737121e+00, -2.23918954e+00,\n",
              "       -4.61191676e-01, -1.21817726e+00, -1.50697343e+00, -1.11923383e+00,\n",
              "        5.85342283e-03, -1.44069729e+00, -1.69465163e+00, -1.55556563e+00,\n",
              "       -2.01253148e+00, -8.90232363e-01, -1.51742416e+00,  1.82870178e-02,\n",
              "       -1.65531009e+00, -7.30331999e-01, -2.26061357e+00, -1.72582329e+00,\n",
              "       -9.86313657e-01, -1.68500983e+00, -1.59104073e+00, -2.70015669e-01,\n",
              "       -1.13114805e+00, -1.31463157e+00, -5.43960853e-01, -2.23897581e+00,\n",
              "       -2.19318384e+00, -6.10077972e-01, -1.52982380e+00, -1.95260736e+00,\n",
              "       -4.63039865e-02, -6.51408788e-01, -1.36485479e+00, -1.57076976e+00,\n",
              "       -1.72675591e+00, -5.15069135e-01, -3.53219754e-01, -1.75089987e+00,\n",
              "       -7.73263331e-01, -1.75850455e+00, -8.32101845e-01, -1.11878578e+00,\n",
              "       -8.80584712e-01, -1.54894448e+00, -1.77255856e+00, -1.69283259e+00,\n",
              "        5.33375145e-03, -6.66228306e-01, -1.34670811e+00, -5.44008161e-01,\n",
              "       -1.97482416e+00, -1.51488137e+00, -1.56884882e+00, -1.25884010e+00,\n",
              "       -1.80267786e+00, -2.12339567e+00, -9.37418118e-01, -4.39344673e-01,\n",
              "       -3.98148923e-01, -2.31872821e+00, -7.91470530e-01, -1.74183929e+00,\n",
              "       -1.55908345e+00, -9.62737170e-01, -2.30558356e+00, -1.58863667e+00,\n",
              "       -5.88307187e-01, -1.72041543e+00, -2.93708476e-01, -5.96024104e-01,\n",
              "       -1.37285526e+00, -6.33948773e-01, -2.17280999e+00, -3.46803851e-01,\n",
              "       -1.68232533e+00, -4.48479652e-01, -1.68584588e+00, -1.25473992e+00,\n",
              "       -5.09186261e-01, -1.33303575e+00, -1.34065890e+00, -1.24755068e+00,\n",
              "       -1.38137225e+00,  7.30343910e-02, -7.87535252e-02, -1.95549143e+00,\n",
              "       -1.68843966e+00, -4.72230689e-01, -1.90269430e+00, -1.56876335e+00,\n",
              "       -1.01891697e+00, -2.27312634e+00, -1.42878178e+00, -1.66384140e+00,\n",
              "        3.15376248e-02, -6.52472865e-01, -7.50351750e-02, -1.64785939e+00,\n",
              "       -2.66493132e-02, -1.42210318e+00, -1.31880192e+00, -9.16283656e-02,\n",
              "       -8.30822558e-01, -1.05897253e-01,  2.85004362e-02, -5.42804206e-01,\n",
              "       -1.61443444e+00, -1.31164582e+00, -1.55967441e+00, -1.47103997e+00,\n",
              "       -1.47939559e+00, -1.92675780e+00, -2.55158863e+00, -5.71023595e-01,\n",
              "       -1.68635021e+00, -1.61745102e+00, -1.33528540e+00, -1.47487039e+00,\n",
              "       -1.87251073e+00, -1.31211643e+00, -1.55254598e+00, -1.59128794e-01,\n",
              "       -1.46423555e+00, -1.66143153e+00, -1.53261686e+00, -1.96286698e+00,\n",
              "        1.35680206e-01, -3.88365117e-01, -1.32855680e+00, -1.56287738e+00,\n",
              "       -4.98551116e-01, -4.59680324e-01, -1.35314862e+00, -1.40478265e+00,\n",
              "       -2.67381046e-01, -1.52770758e+00, -1.64003244e+00, -2.68768196e+00,\n",
              "       -2.25540604e-01, -1.59629565e+00, -1.92707569e+00, -3.91538744e-01,\n",
              "       -1.67381177e+00,  1.08676746e-01, -1.20181902e+00, -3.13433610e-01,\n",
              "       -1.82592340e+00, -1.41999791e+00, -1.62375443e+00, -1.99735984e+00,\n",
              "       -1.99833220e+00, -1.77236840e+00, -2.10357571e+00, -1.45878783e+00,\n",
              "       -2.21450418e+00, -2.13999529e+00, -1.87083672e+00, -1.76064876e+00,\n",
              "       -1.91117838e+00, -2.56670876e-01,  7.16283111e-02, -1.59151346e+00,\n",
              "       -1.66340571e+00, -1.60899066e+00, -1.81477872e+00, -1.61535220e+00,\n",
              "       -1.76304515e+00, -1.73863369e+00, -1.28624583e+00, -2.03166980e+00,\n",
              "       -1.18517699e-01, -7.98838429e-01, -1.66922431e+00, -1.49397394e+00,\n",
              "        6.11319010e-03, -2.41979946e+00, -8.94281362e-02, -6.13705575e-01,\n",
              "       -1.34191572e+00, -1.61921278e+00, -1.40365307e-01, -1.45488432e+00,\n",
              "       -4.96295557e-01, -1.78230748e+00, -1.11962232e+00, -1.72698341e+00,\n",
              "       -1.13292566e+00, -1.26698628e+00, -1.53613957e+00, -8.85464383e-01,\n",
              "       -1.67218659e+00, -1.45157964e+00, -7.99511805e-02, -1.54829344e+00,\n",
              "       -1.67134219e+00, -1.36584918e+00, -4.30711923e-01, -7.26448129e-01,\n",
              "       -1.57797638e+00, -5.90620068e-01, -7.24016919e-01, -1.47154203e+00,\n",
              "        5.84200945e-02, -1.94779690e+00, -1.55752584e+00, -1.44785155e+00,\n",
              "       -1.03667503e+00, -2.08102006e+00, -5.36678777e-01, -1.92842291e+00,\n",
              "       -1.21701079e+00, -1.70317694e+00,  6.09487770e-02, -1.81100020e+00,\n",
              "       -8.93554077e-01, -1.87877856e+00, -1.96053040e+00, -2.20570391e-02,\n",
              "       -2.02106743e+00, -1.90540874e+00, -1.55165000e+00, -1.43083670e+00,\n",
              "       -1.71686326e+00, -2.13001066e+00, -1.86842595e+00, -1.77987731e+00,\n",
              "       -5.84495601e-01, -1.01131951e+00, -1.92685159e+00, -1.57730911e+00,\n",
              "       -2.11969616e+00, -2.30611968e+00, -1.35796621e+00, -1.59420756e+00,\n",
              "       -1.62413041e+00, -1.78089024e+00, -2.11545906e+00, -2.71277238e-01,\n",
              "       -1.68638026e+00, -2.66719239e-01, -4.38366358e-03,  5.80468310e-02,\n",
              "       -1.24827012e+00, -1.19568996e+00, -2.06939220e+00, -1.95480402e+00,\n",
              "       -1.10990971e+00, -1.61373042e-02, -7.75516936e-02, -2.01592279e+00,\n",
              "       -1.61454618e+00, -3.91746289e-01, -1.43247909e+00, -1.34529885e+00,\n",
              "       -1.35477313e+00, -1.85685768e+00, -2.98652534e-01, -1.20904249e+00,\n",
              "       -2.11487976e+00, -1.34018638e+00, -1.21445070e+00, -1.58053783e+00,\n",
              "       -7.45007044e-01,  1.37115902e-01, -1.77277439e+00, -7.34426735e-01,\n",
              "       -1.81714878e+00, -1.84653919e+00, -1.77181632e+00, -5.20509317e-01,\n",
              "       -1.54724632e+00, -1.46464448e+00, -2.19183830e+00, -2.03291422e+00,\n",
              "       -1.26754164e+00, -2.07486062e+00, -1.62166105e+00,  6.21769350e-02,\n",
              "       -1.45298517e+00, -2.27092447e+00, -2.08693096e+00, -1.51685789e+00,\n",
              "       -1.79223574e+00, -1.91861652e+00, -1.66936624e+00, -1.65896539e+00,\n",
              "       -3.15622936e-01, -1.30885605e+00, -1.89920598e+00, -1.89096034e+00,\n",
              "        1.34514343e-01, -1.49365720e+00, -1.78033768e+00, -1.41528304e+00,\n",
              "       -1.04827283e+00, -1.75231935e+00,  7.98436556e-03, -1.50786272e+00,\n",
              "       -1.03937658e+00, -1.66013428e+00, -7.71556694e-01, -1.45012368e+00,\n",
              "       -1.48117148e+00,  2.80175875e-02, -2.02157672e+00, -4.93227186e-01,\n",
              "       -1.67962187e+00, -1.63128257e+00, -1.61780232e+00, -5.40361069e-01,\n",
              "       -1.54613084e+00, -1.42333748e+00, -1.53812568e+00, -1.41208684e+00,\n",
              "       -6.04772073e-01, -1.45442220e-01,  2.97398060e-02, -2.64913847e-01,\n",
              "        4.73678546e-04, -1.22704764e+00, -4.39748502e-02, -1.19035354e+00,\n",
              "       -1.62638742e+00, -1.97696710e+00, -1.66120858e+00, -1.89104066e-01,\n",
              "       -1.24126519e+00, -1.52139510e+00, -1.75570648e+00, -5.50193902e-01,\n",
              "       -1.51573450e+00, -1.73588177e+00, -1.51068082e+00, -1.54549095e+00,\n",
              "       -1.76853006e+00, -2.09995801e+00, -2.16197299e+00, -6.25114390e-01,\n",
              "       -3.62913003e-01, -2.72030370e-01, -1.55353324e+00, -1.10582437e-01,\n",
              "       -1.96482995e+00, -1.52920338e+00, -1.53731849e+00, -1.80304786e+00,\n",
              "        2.61370835e-02, -1.82235191e+00, -2.40905981e+00, -1.56833632e+00,\n",
              "       -2.87856502e+00, -1.58976856e+00, -2.64985278e-01, -1.62502319e+00,\n",
              "       -1.48874882e+00, -1.59376692e+00, -2.05057426e+00, -1.07627791e-01,\n",
              "       -2.46355204e-01,  3.29419483e-02, -1.63082692e+00, -1.81090630e+00,\n",
              "       -4.65483872e-01, -1.52511132e+00, -1.55249009e+00, -1.44726647e+00,\n",
              "       -1.07218672e+00, -2.19077308e+00, -4.84654448e-01, -1.33414668e+00,\n",
              "       -1.57224255e+00, -1.30242095e+00, -7.59515876e-01, -1.50240169e+00,\n",
              "       -8.47398025e-02, -1.13869526e+00, -1.31877958e+00, -1.88435616e+00,\n",
              "       -2.65969772e+00, -1.76187855e+00, -1.94221572e+00, -3.71767301e-01,\n",
              "       -4.61982497e+00, -1.41835258e+00, -1.69620356e+00, -1.44212105e+00,\n",
              "       -9.16290962e-01, -3.40861769e-01, -2.39362365e+00, -1.69519628e+00,\n",
              "       -1.76953863e+00,  1.11280899e-01,  1.39266890e-01, -1.97703601e+00,\n",
              "       -5.91971975e-01, -7.78746079e-01, -1.22433305e-01, -1.63903346e+00,\n",
              "       -2.22244680e+00, -1.62528676e+00, -2.17148603e+00, -1.42211992e+00,\n",
              "       -4.09271751e-01, -1.34937376e+00, -8.83632887e-01, -1.59717701e+00,\n",
              "       -1.62174160e+00, -1.28716126e+00, -4.08261621e-01, -1.80138027e+00,\n",
              "       -1.67235484e+00, -1.28617156e+00, -1.59090164e+00, -1.62099628e+00,\n",
              "       -1.50502165e+00, -1.34813955e+00, -1.69724064e+00, -1.27454646e-01,\n",
              "       -1.68711139e+00, -1.83070855e+00, -1.47941615e+00, -3.52009402e-01,\n",
              "       -8.97624471e-01, -1.25679105e+00, -9.27824198e-02, -1.53597243e+00,\n",
              "       -1.84320326e+00, -1.23253867e-01,  1.17752434e-01, -1.38023409e+00,\n",
              "       -1.31043733e+00, -9.21801083e-02, -1.83740960e+00, -5.72013093e-01,\n",
              "       -2.61538830e+00, -1.09141391e-01, -5.46781374e-01, -1.53184540e+00,\n",
              "       -1.73546719e+00, -2.29235326e+00, -1.78646958e+00, -1.17130144e+00,\n",
              "       -6.32696333e-01, -1.82038158e+00, -1.46245332e+00, -1.75061263e+00,\n",
              "       -2.41432215e+00, -4.08613712e-01, -1.61185424e+00, -2.20470259e+00,\n",
              "       -1.32146594e+00, -1.65431773e+00, -1.79818411e+00, -1.51983868e+00,\n",
              "       -1.14901750e+00, -1.60173438e+00, -2.37536881e-01, -1.58124420e+00,\n",
              "       -1.74657687e+00, -1.80939289e+00, -1.39873687e-01, -3.56629643e-01,\n",
              "       -1.93887736e+00, -1.77832621e+00, -1.14775084e+00, -1.89910106e+00,\n",
              "       -1.33723306e+00, -3.77613071e-01,  1.38952238e-01, -2.14115511e+00,\n",
              "       -3.51252744e-01, -1.02297548e-01, -1.62799543e+00, -1.97664214e+00,\n",
              "       -1.14808561e+00, -1.90985972e+00, -1.51413326e+00, -1.22732191e+00,\n",
              "       -1.50952677e+00, -4.37876079e-01, -1.72199506e+00, -2.02452412e+00,\n",
              "       -1.54901185e+00, -1.78721990e+00, -1.63052185e+00, -1.88541528e+00,\n",
              "       -5.20653985e-01, -1.23858117e+00, -1.61641916e+00, -1.58934213e+00,\n",
              "       -1.58600158e+00, -1.69868684e+00, -1.52952317e+00, -1.76683609e+00,\n",
              "       -2.12183302e+00, -1.68488760e+00, -1.88693397e+00, -1.76678749e+00,\n",
              "       -1.69773675e+00, -2.30258948e+00,  6.87227415e-03, -2.85552623e-02,\n",
              "       -1.39710608e+00, -1.53930073e+00, -1.77814188e+00, -1.70977143e+00,\n",
              "       -1.08511788e+00, -3.35566847e-01, -1.90639315e+00,  2.67079784e-02,\n",
              "       -1.41108702e+00, -1.58447187e+00, -1.92407687e+00, -1.77764641e+00,\n",
              "       -9.01808406e-01, -1.90762325e+00, -1.53402606e+00, -1.28011337e+00,\n",
              "       -1.65929523e+00, -2.03322222e+00, -1.74066841e+00, -1.49370492e+00,\n",
              "       -1.61529370e+00, -3.47382495e+00, -1.08256204e-01, -1.74602871e+00,\n",
              "       -1.39649461e+00, -1.56599374e+00, -1.39973235e-01, -1.39142920e+00,\n",
              "       -1.49660792e+00, -4.88026873e-01, -1.45567288e+00, -2.01675815e+00,\n",
              "       -1.44163819e+00,  8.19650949e-02, -1.46632345e+00, -2.46289737e-02,\n",
              "       -1.84202656e+00, -1.23006962e+00, -3.80744867e-01, -1.22161179e+00,\n",
              "       -1.47869702e+00, -1.28954028e+00, -7.27672165e-01, -1.68387185e+00,\n",
              "       -2.06725018e+00, -1.92764758e+00, -1.58368160e+00, -6.31669796e-01,\n",
              "       -3.73672065e+00, -1.75385127e+00, -1.69508697e+00, -1.66827864e+00,\n",
              "       -1.56350256e+00, -1.17892284e+00, -1.58427246e+00, -1.53525271e+00,\n",
              "       -7.59757379e-01, -3.06153958e-01, -3.65813461e-01, -1.42582652e+00,\n",
              "       -1.76142620e+00, -2.29088833e+00, -2.09904058e-01, -2.10382182e+00,\n",
              "       -2.19998153e+00, -3.39091926e-01, -1.67149589e+00, -1.65863429e+00,\n",
              "       -1.94102479e+00, -1.72354999e+00, -1.62555345e+00, -1.73984630e+00,\n",
              "       -2.96743556e-01,  1.93814700e-02, -1.39656150e+00, -2.20115681e+00,\n",
              "       -4.21008474e-01, -1.95495766e-01, -1.53607580e+00, -1.77507529e+00,\n",
              "       -1.69432298e+00, -5.86891748e-01, -1.18488305e-01, -2.20239726e+00,\n",
              "       -1.60563093e+00, -1.40011775e+00, -1.41416123e+00, -1.56219488e+00,\n",
              "       -2.04908538e+00, -2.56446563e-01, -1.99362661e+00, -1.47476690e+00,\n",
              "       -1.55133059e+00, -5.66598515e-02,  1.47645115e-01, -1.46793307e+00,\n",
              "       -1.68125323e+00, -6.78946694e-01, -1.46440449e+00, -1.94294680e+00,\n",
              "       -1.72711059e+00, -6.07363027e-01, -2.22931176e+00, -1.64358277e+00,\n",
              "       -2.17643645e+00, -2.28422259e+00, -1.59886462e+00, -1.49905950e+00,\n",
              "       -1.63444759e+00, -2.26805230e+00, -1.50568686e+00, -5.69410459e-01,\n",
              "       -1.54922375e+00, -1.48022841e+00, -1.93566820e+00, -1.49656464e+00,\n",
              "       -1.05598567e+00, -1.69802076e+00, -6.99332033e-01, -1.16809045e+00,\n",
              "       -1.64345541e+00, -2.08118851e+00, -1.85116829e+00, -1.74179918e+00,\n",
              "       -3.11120925e-01, -4.13034732e-01, -1.79329245e+00, -1.75254213e+00,\n",
              "       -9.72189542e-01, -3.79290690e-01, -1.51002912e+00, -1.50141636e+00,\n",
              "       -3.08207093e-01, -1.29994726e+00, -4.60331816e-02, -1.48880589e+00,\n",
              "       -2.31419145e+00, -6.19101344e-01, -1.54557343e+00, -4.95602169e-01,\n",
              "       -1.61933074e+00, -1.73037246e+00,  1.32165855e-01, -2.15350030e+00,\n",
              "       -4.62301748e-02, -1.30162476e+00, -1.85797364e+00, -1.70561993e+00,\n",
              "       -4.62826174e-01, -1.35408164e+00, -1.56014221e+00, -1.40741149e+00])"
            ]
          },
          "metadata": {},
          "execution_count": 17
        }
      ]
    },
    {
      "cell_type": "markdown",
      "source": [
        "### **9.2.1 가우시안 혼합을 사용한 이상치 탐지**"
      ],
      "metadata": {
        "id": "NqH03Q-_6-Ws"
      }
    },
    {
      "cell_type": "markdown",
      "source": [
        "**이상치 탐지**는 보통과 많이 다른 샘플을 감지하는 작업이다.\n",
        "\n",
        "가우시안 혼합 모델을 이상치 탐지에 사용하는 방법은 매우 간단하다.\n",
        "\n",
        "밀도가 낮은 지역에 있는 모든 샘플을 이상치로 볼 수 있다.\n",
        "\n",
        "이렇게 하려면 사용할 밀도 임곗값을 정해야 한다."
      ],
      "metadata": {
        "id": "Xppvt0Q-7B6y"
      }
    },
    {
      "cell_type": "markdown",
      "source": [
        "네 번째 백분위수 (4%)를 밀도 임곗값으로 사용하여 이상치를 구분하는 방법."
      ],
      "metadata": {
        "id": "3phI_1vy7e4W"
      }
    },
    {
      "cell_type": "code",
      "source": [
        "densities = gm.score_samples(X)\n",
        "density_threshold = np.percentile(densities,4)\n",
        "anomalies = X[densities < density_threshold]"
      ],
      "metadata": {
        "id": "vJqfMLV0604C"
      },
      "execution_count": 13,
      "outputs": []
    },
    {
      "cell_type": "markdown",
      "source": [
        "이와 비슷한 작업은 **특이치 탐지**이다.\n",
        "\n",
        "이 알고리즘은 이상치로 오염되지 않은 '깨끗한' 데이터셋에서 훈련한다는 것이 이상치 탐지와 다르다."
      ],
      "metadata": {
        "id": "9zP9ScrA7qRO"
      }
    },
    {
      "cell_type": "markdown",
      "source": [
        "### **9.2.2 클러스터 개수 선택하기**\n",
        "\n",
        "k-평균에서는 이너셔나 실루엣 점수를 사용해 적절한 클러스터 개수를 선택한다.\n",
        "\n",
        "가우시안 혼합에서는 이러한 지표를 사용할 수 없다.\n",
        "\n",
        "이런 지표들은 클러스터가 타원형이거나 크기가 다를 때 안정적이지 않기 때문이다.\n",
        "\n",
        "대신 **BIC**나 **AIC**와 같은 **이론적 정보 기준**을 최소화하는 모델을 찾는다.\n",
        "\n",
        "BIC와 AIC는 모두 학습할 파라미터가 많은(즉 클러스터가 많은) 모델에게 벌칙을 가하고 데이터에 잘 학습하는 모델에게 보상을 더한다.\n",
        "\n",
        "이 둘은 종종 동일한 모델을 선택하지만, 둘의 선택이 다를 경우 BIC가 선택한 모델이 더 간단한(파라미터가 적은) 경향이 있다.\n",
        "\n",
        "하지만 데이터에 아주 잘 맞지 않을 수 있다."
      ],
      "metadata": {
        "id": "cpslGRm27ylC"
      }
    },
    {
      "cell_type": "markdown",
      "source": [
        "BIC, AIC 계산."
      ],
      "metadata": {
        "id": "0gTptQuS8VbK"
      }
    },
    {
      "cell_type": "code",
      "source": [
        "gm.bic(X)"
      ],
      "metadata": {
        "id": "zkpfNFoA7x_B",
        "colab": {
          "base_uri": "https://localhost:8080/"
        },
        "outputId": "1bbc76df-12b8-44ed-9e8b-fb33739e83a1"
      },
      "execution_count": 14,
      "outputs": [
        {
          "output_type": "execute_result",
          "data": {
            "text/plain": [
              "np.float64(2754.427035559637)"
            ]
          },
          "metadata": {},
          "execution_count": 14
        }
      ]
    },
    {
      "cell_type": "code",
      "source": [
        "gm.aic(X)"
      ],
      "metadata": {
        "id": "szdDyW3E8X7c",
        "colab": {
          "base_uri": "https://localhost:8080/"
        },
        "outputId": "c5d85bca-bb50-4c96-865f-8751ea7c7200"
      },
      "execution_count": 15,
      "outputs": [
        {
          "output_type": "execute_result",
          "data": {
            "text/plain": [
              "np.float64(2670.9951958169404)"
            ]
          },
          "metadata": {},
          "execution_count": 15
        }
      ]
    },
    {
      "cell_type": "markdown",
      "source": [
        "### **9.2.3 베이즈 가우시안 혼합 모델**\n",
        "\n",
        "최적의 클러스터 개수를 수동으로 찾지 않고 불필요한 클러스터의 가중치를 0으로(또는 0에 가깝게) 만드는 BayesianGaussianMixture 클래스를 사용할 수 있다.\n",
        "\n",
        "클러스터 개수는 n_components를 최적의 클러스터 개수보다 크다고 믿을 만한 값으로 지정한다.\n",
        "\n",
        "이 알고리즘은 자동으로 불필요한 클러스터를 제거한다."
      ],
      "metadata": {
        "id": "s3Z3cEMS8bB9"
      }
    },
    {
      "cell_type": "markdown",
      "source": [
        "예를 들어 클러스터 개수를 10으로 설정하고 결과 확인."
      ],
      "metadata": {
        "id": "Q219hCJF8rFd"
      }
    },
    {
      "cell_type": "code",
      "source": [
        "from sklearn.mixture import BayesianGaussianMixture\n",
        "bgm = BayesianGaussianMixture(n_components=10, n_init=10)\n",
        "bgm.fit(X)\n",
        "np.round(bgm.weights_,2)"
      ],
      "metadata": {
        "id": "OQ5XTq1y8qpC",
        "colab": {
          "base_uri": "https://localhost:8080/"
        },
        "outputId": "f5fa7de4-1926-4320-f66b-ddb6bf735bfa"
      },
      "execution_count": 16,
      "outputs": [
        {
          "output_type": "stream",
          "name": "stderr",
          "text": [
            "/usr/local/lib/python3.12/dist-packages/sklearn/mixture/_base.py:269: ConvergenceWarning: Best performing initialization did not converge. Try different init parameters, or increase max_iter, tol, or check for degenerate data.\n",
            "  warnings.warn(\n"
          ]
        },
        {
          "output_type": "execute_result",
          "data": {
            "text/plain": [
              "array([0.13, 0.13, 0.16, 0.16, 0.11, 0.1 , 0.11, 0.1 , 0.  , 0.  ])"
            ]
          },
          "metadata": {},
          "execution_count": 16
        }
      ]
    },
    {
      "cell_type": "markdown",
      "source": [
        "**베타 분포**는 고정 범위 안에 놓인 값을 가진 확률 변수를 모델링할 때 자주 사용된다.\n",
        "\n",
        "이 경우는 0에서 1 범위이다."
      ],
      "metadata": {
        "id": "Mk7o7rWh836N"
      }
    },
    {
      "cell_type": "markdown",
      "source": [
        "### **9.2.4 이상치 탐지와 특이치 탐지를 위한 다른 알고리즘**\n",
        "\n",
        "사이킷런에는 이상치 탐지와 특이치 탐지 전용으로 사용할 수 있는 몇 가지 알고리즘이 구현되어 있다."
      ],
      "metadata": {
        "id": "9d1An9k19AQS"
      }
    },
    {
      "cell_type": "markdown",
      "source": [
        "- PCA\n",
        "\n",
        "보통 샘플의 재구성 오차와 이상치의 재구성 오차를 비교하면 일반적으로 후자가 훨씬 크다. 이는 간단하고 종종 매우 효과적인 이상치 탐지 기법이다.\n",
        "\n",
        "- Fast-MCD\n",
        "\n",
        "EllipticEnvelope 클래스에서 구현된 이 알고리즘은 이상치 감지에 유용하다. 특히 데이터셋을 정제할 때 사용된다.\n",
        "\n",
        "- 아이솔레이션 포레스트\n",
        "\n",
        "특히 고차원 데이터셋에서 이상치 감지를 위한 효율적인 알고리즘이다. 이 알고리즘은 무작위로 성장한 결정 트리로 구성된 랜덤 포레스트를 만든다.\n",
        "\n",
        "- LOF\n",
        "\n",
        "이상치 탐지에 유용하다. 주어진 샘플 주위의 밀도와 이웃 주위의 밀도를 비교한다. 이상치는 종종 k개의 최근접 이웃보다 더 격리된다.\n",
        "\n",
        "- one-class SVM\n",
        "\n",
        "특이치 탐지에 잘 맞는다. 특히 고차원 데이터셋에 잘 작동한다. 하지만 모든 SVM과 마찬가지로 대규모 데이터셋으로의 확장은 어렵다."
      ],
      "metadata": {
        "id": "jpFLrWjz9No9"
      }
    }
  ]
}